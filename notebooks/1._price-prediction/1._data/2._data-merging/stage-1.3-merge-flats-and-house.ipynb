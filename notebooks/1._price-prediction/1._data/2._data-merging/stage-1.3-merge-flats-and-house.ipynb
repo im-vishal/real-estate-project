{
 "cells": [
  {
   "cell_type": "code",
   "execution_count": 1,
   "id": "2b11b6dd",
   "metadata": {},
   "outputs": [],
   "source": [
    "import numpy as np\n",
    "import pandas as pd"
   ]
  },
  {
   "cell_type": "code",
   "execution_count": 2,
   "id": "24b69747",
   "metadata": {},
   "outputs": [],
   "source": [
    "flats = pd.read_csv('../../../../data/raw/nb_data/2. cleaned_data_L1/flats_cleaned.csv')\n",
    "houses = pd.read_csv('../../../../data/raw/nb_data/2. cleaned_data_L1/house_cleaned.csv')"
   ]
  },
  {
   "cell_type": "code",
   "execution_count": 3,
   "id": "f14b978e",
   "metadata": {},
   "outputs": [],
   "source": [
    "df = pd.concat([flats,houses],ignore_index=True)"
   ]
  },
  {
   "cell_type": "code",
   "execution_count": 4,
   "id": "6ee61d8f",
   "metadata": {},
   "outputs": [],
   "source": [
    "df = df.sample(df.shape[0],ignore_index=True)"
   ]
  },
  {
   "cell_type": "code",
   "execution_count": 5,
   "id": "4b047d58",
   "metadata": {},
   "outputs": [
    {
     "data": {
      "text/html": [
       "<div>\n",
       "<style scoped>\n",
       "    .dataframe tbody tr th:only-of-type {\n",
       "        vertical-align: middle;\n",
       "    }\n",
       "\n",
       "    .dataframe tbody tr th {\n",
       "        vertical-align: top;\n",
       "    }\n",
       "\n",
       "    .dataframe thead th {\n",
       "        text-align: right;\n",
       "    }\n",
       "</style>\n",
       "<table border=\"1\" class=\"dataframe\">\n",
       "  <thead>\n",
       "    <tr style=\"text-align: right;\">\n",
       "      <th></th>\n",
       "      <th>property_name</th>\n",
       "      <th>property_type</th>\n",
       "      <th>society</th>\n",
       "      <th>price</th>\n",
       "      <th>price_per_sqft</th>\n",
       "      <th>area</th>\n",
       "      <th>areaWithType</th>\n",
       "      <th>bedRoom</th>\n",
       "      <th>bathroom</th>\n",
       "      <th>balcony</th>\n",
       "      <th>additionalRoom</th>\n",
       "      <th>address</th>\n",
       "      <th>floorNum</th>\n",
       "      <th>facing</th>\n",
       "      <th>agePossession</th>\n",
       "      <th>nearbyLocations</th>\n",
       "      <th>description</th>\n",
       "      <th>furnishDetails</th>\n",
       "      <th>features</th>\n",
       "      <th>rating</th>\n",
       "    </tr>\n",
       "  </thead>\n",
       "  <tbody>\n",
       "    <tr>\n",
       "      <th>0</th>\n",
       "      <td>3 BHK Flat in Sector 83 Gurgaon</td>\n",
       "      <td>flat</td>\n",
       "      <td>vatika gurgaon</td>\n",
       "      <td>1.05</td>\n",
       "      <td>7000.0</td>\n",
       "      <td>1500.0</td>\n",
       "      <td>Super Built up area 1735(161.19 sq.m.)Carpet a...</td>\n",
       "      <td>3</td>\n",
       "      <td>3</td>\n",
       "      <td>3</td>\n",
       "      <td>store room</td>\n",
       "      <td>Sector 83 Gurgaon, Gurgaon, Haryana</td>\n",
       "      <td>3.0</td>\n",
       "      <td>South-West</td>\n",
       "      <td>1 to 5 Year Old</td>\n",
       "      <td>['Huda Metro Station (Gurugram)', 'Sapphire 83...</td>\n",
       "      <td>Located in the popular residential address of ...</td>\n",
       "      <td>NaN</td>\n",
       "      <td>['Feng Shui / Vaastu Compliant', 'Lift(s)', 'M...</td>\n",
       "      <td>['Green Area5 out of 5', 'Construction4.5 out ...</td>\n",
       "    </tr>\n",
       "    <tr>\n",
       "      <th>1</th>\n",
       "      <td>3 BHK Flat in Sector 68 Gurgaon</td>\n",
       "      <td>flat</td>\n",
       "      <td>m3m the marina</td>\n",
       "      <td>1.45</td>\n",
       "      <td>9615.0</td>\n",
       "      <td>1508.0</td>\n",
       "      <td>Super Built up area 1508(140.1 sq.m.)</td>\n",
       "      <td>3</td>\n",
       "      <td>2</td>\n",
       "      <td>3+</td>\n",
       "      <td>not available</td>\n",
       "      <td>Sector 68 Gurgaon, Gurgaon, Haryana</td>\n",
       "      <td>9.0</td>\n",
       "      <td>NaN</td>\n",
       "      <td>0 to 1 Year Old</td>\n",
       "      <td>['Airia Mall', 'Southern Peripheral Road', 'So...</td>\n",
       "      <td>We are the proud owners of this 3 bhk apartmen...</td>\n",
       "      <td>[]</td>\n",
       "      <td>NaN</td>\n",
       "      <td>['Green Area4 out of 5', 'Construction4 out of...</td>\n",
       "    </tr>\n",
       "  </tbody>\n",
       "</table>\n",
       "</div>"
      ],
      "text/plain": [
       "                     property_name property_type         society  price  \\\n",
       "0  3 BHK Flat in Sector 83 Gurgaon          flat  vatika gurgaon   1.05   \n",
       "1  3 BHK Flat in Sector 68 Gurgaon          flat  m3m the marina   1.45   \n",
       "\n",
       "   price_per_sqft    area                                       areaWithType  \\\n",
       "0          7000.0  1500.0  Super Built up area 1735(161.19 sq.m.)Carpet a...   \n",
       "1          9615.0  1508.0              Super Built up area 1508(140.1 sq.m.)   \n",
       "\n",
       "   bedRoom  bathroom balcony additionalRoom  \\\n",
       "0        3         3       3     store room   \n",
       "1        3         2      3+  not available   \n",
       "\n",
       "                               address  floorNum      facing    agePossession  \\\n",
       "0  Sector 83 Gurgaon, Gurgaon, Haryana       3.0  South-West  1 to 5 Year Old   \n",
       "1  Sector 68 Gurgaon, Gurgaon, Haryana       9.0         NaN  0 to 1 Year Old   \n",
       "\n",
       "                                     nearbyLocations  \\\n",
       "0  ['Huda Metro Station (Gurugram)', 'Sapphire 83...   \n",
       "1  ['Airia Mall', 'Southern Peripheral Road', 'So...   \n",
       "\n",
       "                                         description furnishDetails  \\\n",
       "0  Located in the popular residential address of ...            NaN   \n",
       "1  We are the proud owners of this 3 bhk apartmen...             []   \n",
       "\n",
       "                                            features  \\\n",
       "0  ['Feng Shui / Vaastu Compliant', 'Lift(s)', 'M...   \n",
       "1                                                NaN   \n",
       "\n",
       "                                              rating  \n",
       "0  ['Green Area5 out of 5', 'Construction4.5 out ...  \n",
       "1  ['Green Area4 out of 5', 'Construction4 out of...  "
      ]
     },
     "execution_count": 5,
     "metadata": {},
     "output_type": "execute_result"
    }
   ],
   "source": [
    "df.head(2)"
   ]
  },
  {
   "cell_type": "code",
   "execution_count": 7,
   "id": "39b2e3c9",
   "metadata": {},
   "outputs": [
    {
     "data": {
      "text/plain": [
       "(3961, 20)"
      ]
     },
     "execution_count": 7,
     "metadata": {},
     "output_type": "execute_result"
    }
   ],
   "source": [
    "df.shape"
   ]
  },
  {
   "cell_type": "code",
   "execution_count": 8,
   "id": "431cecb0",
   "metadata": {},
   "outputs": [
    {
     "data": {
      "text/plain": [
       "0"
      ]
     },
     "execution_count": 8,
     "metadata": {},
     "output_type": "execute_result"
    }
   ],
   "source": [
    "df.duplicated().sum()"
   ]
  },
  {
   "cell_type": "code",
   "execution_count": 6,
   "id": "d810924c",
   "metadata": {},
   "outputs": [],
   "source": [
    "df.to_csv('../../../../data/raw/nb_data/3. merged_data/gurgaon_properties.csv',index=False)"
   ]
  },
  {
   "cell_type": "code",
   "execution_count": null,
   "id": "56be443e",
   "metadata": {},
   "outputs": [],
   "source": []
  }
 ],
 "metadata": {
  "kernelspec": {
   "display_name": "Python 3 (ipykernel)",
   "language": "python",
   "name": "python3"
  },
  "language_info": {
   "codemirror_mode": {
    "name": "ipython",
    "version": 3
   },
   "file_extension": ".py",
   "mimetype": "text/x-python",
   "name": "python",
   "nbconvert_exporter": "python",
   "pygments_lexer": "ipython3",
   "version": "3.12.2"
  }
 },
 "nbformat": 4,
 "nbformat_minor": 5
}
